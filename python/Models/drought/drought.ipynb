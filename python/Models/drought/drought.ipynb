{
 "cells": [
  {
   "cell_type": "code",
   "execution_count": 1,
   "id": "965966be",
   "metadata": {},
   "outputs": [
    {
     "name": "stdout",
     "output_type": "stream",
     "text": [
      "   fips        date  PRECTOT      PS   QV2M    T2M  T2MDEW  T2MWET  T2M_MAX  \\\n",
      "0  1001  2000-01-01     0.22  100.51   9.65  14.74   13.51   13.51    20.96   \n",
      "1  1001  2000-01-02     0.20  100.55  10.42  16.69   14.71   14.71    22.80   \n",
      "2  1001  2000-01-03     3.65  100.15  11.76  18.49   16.52   16.52    22.73   \n",
      "3  1001  2000-01-04    15.95  100.29   6.42  11.40    6.09    6.10    18.09   \n",
      "4  1001  2000-01-05     0.00  101.15   2.95   3.86   -3.29   -3.20    10.82   \n",
      "\n",
      "   T2M_MIN  ...     TS  WS10M  WS10M_MAX  WS10M_MIN  WS10M_RANGE  WS50M  \\\n",
      "0    11.46  ...  14.65   2.20       2.94       1.49         1.46   4.85   \n",
      "1    12.61  ...  16.60   2.52       3.43       1.83         1.60   5.33   \n",
      "2    15.32  ...  18.41   4.03       5.33       2.66         2.67   7.53   \n",
      "3     2.16  ...  11.31   3.84       5.67       2.08         3.59   6.73   \n",
      "4    -2.66  ...   2.65   1.60       2.50       0.52         1.98   2.94   \n",
      "\n",
      "   WS50M_MAX  WS50M_MIN  WS50M_RANGE  score  \n",
      "0       6.04       3.23         2.81    NaN  \n",
      "1       6.13       3.72         2.41    NaN  \n",
      "2       9.52       5.87         3.66    NaN  \n",
      "3       9.31       3.74         5.58    1.0  \n",
      "4       4.85       0.65         4.19    NaN  \n",
      "\n",
      "[5 rows x 21 columns]\n",
      "<class 'pandas.core.frame.DataFrame'>\n",
      "RangeIndex: 19300680 entries, 0 to 19300679\n",
      "Data columns (total 21 columns):\n",
      " #   Column       Dtype  \n",
      "---  ------       -----  \n",
      " 0   fips         int64  \n",
      " 1   date         object \n",
      " 2   PRECTOT      float64\n",
      " 3   PS           float64\n",
      " 4   QV2M         float64\n",
      " 5   T2M          float64\n",
      " 6   T2MDEW       float64\n",
      " 7   T2MWET       float64\n",
      " 8   T2M_MAX      float64\n",
      " 9   T2M_MIN      float64\n",
      " 10  T2M_RANGE    float64\n",
      " 11  TS           float64\n",
      " 12  WS10M        float64\n",
      " 13  WS10M_MAX    float64\n",
      " 14  WS10M_MIN    float64\n",
      " 15  WS10M_RANGE  float64\n",
      " 16  WS50M        float64\n",
      " 17  WS50M_MAX    float64\n",
      " 18  WS50M_MIN    float64\n",
      " 19  WS50M_RANGE  float64\n",
      " 20  score        float64\n",
      "dtypes: float64(19), int64(1), object(1)\n",
      "memory usage: 3.0+ GB\n",
      "None\n",
      "               fips       PRECTOT            PS          QV2M           T2M  \\\n",
      "count  1.930068e+07  1.930068e+07  1.930068e+07  1.930068e+07  1.930068e+07   \n",
      "mean   3.067038e+04  2.644145e+00  9.665578e+01  7.816178e+00  1.280146e+01   \n",
      "std    1.497911e+04  6.226305e+00  5.447994e+00  4.694305e+00  1.092674e+01   \n",
      "min    1.001000e+03  0.000000e+00  6.612000e+01  1.200000e-01 -3.734000e+01   \n",
      "25%    1.904450e+04  0.000000e+00  9.584000e+01  3.780000e+00  4.450000e+00   \n",
      "50%    2.921200e+04  1.800000e-01  9.830000e+01  6.840000e+00  1.402000e+01   \n",
      "75%    4.600750e+04  2.160000e+00  9.996000e+01  1.135000e+01  2.188000e+01   \n",
      "max    5.604300e+04  2.345900e+02  1.043200e+02  2.292000e+01  4.139000e+01   \n",
      "\n",
      "             T2MDEW        T2MWET       T2M_MAX       T2M_MIN     T2M_RANGE  \\\n",
      "count  1.930068e+07  1.930068e+07  1.930068e+07  1.930068e+07  1.930068e+07   \n",
      "mean   6.951072e+00  6.986916e+00  1.868141e+01  7.411665e+00  1.126974e+01   \n",
      "std    1.014551e+01  1.009116e+01  1.154487e+01  1.057680e+01  4.005165e+00   \n",
      "min   -3.770000e+01 -3.746000e+01 -3.220000e+01 -4.596000e+01  3.000000e-02   \n",
      "25%   -9.600000e-01 -9.200000e-01  1.027000e+01 -7.000000e-01  8.420000e+00   \n",
      "50%    7.570000e+00  7.580000e+00  2.040000e+01  8.030000e+00  1.124000e+01   \n",
      "75%    1.552000e+01  1.552000e+01  2.787000e+01  1.614000e+01  1.408000e+01   \n",
      "max    2.755000e+01  2.755000e+01  4.991000e+01  3.380000e+01  3.461000e+01   \n",
      "\n",
      "                 TS         WS10M     WS10M_MAX     WS10M_MIN   WS10M_RANGE  \\\n",
      "count  1.930068e+07  1.930068e+07  1.930068e+07  1.930068e+07  1.930068e+07   \n",
      "mean   1.288900e+01  3.564013e+00  5.195993e+00  1.928879e+00  3.267113e+00   \n",
      "std    1.114961e+01  1.862297e+00  2.627969e+00  1.351713e+00  1.947028e+00   \n",
      "min   -3.823000e+01  2.500000e-01  5.400000e-01  0.000000e+00  1.600000e-01   \n",
      "25%    4.340000e+00  2.140000e+00  3.110000e+00  9.600000e-01  1.810000e+00   \n",
      "50%    1.404000e+01  3.140000e+00  4.670000e+00  1.660000e+00  2.800000e+00   \n",
      "75%    2.207000e+01  4.600000e+00  6.750000e+00  2.580000e+00  4.250000e+00   \n",
      "max    4.385000e+01  2.369000e+01  3.628000e+01  1.720000e+01  2.825000e+01   \n",
      "\n",
      "              WS50M     WS50M_MAX     WS50M_MIN   WS50M_RANGE         score  \n",
      "count  1.930068e+07  1.930068e+07  1.930068e+07  1.930068e+07  2.756796e+06  \n",
      "mean   5.525151e+00  7.811798e+00  3.130077e+00  4.681721e+00  8.245298e-01  \n",
      "std    2.321549e+00  2.861210e+00  2.122751e+00  2.171263e+00  1.223727e+00  \n",
      "min    4.000000e-01  7.000000e-01  0.000000e+00  3.200000e-01  0.000000e+00  \n",
      "25%    3.790000e+00  5.680000e+00  1.450000e+00  3.130000e+00  0.000000e+00  \n",
      "50%    5.120000e+00  7.310000e+00  2.770000e+00  4.250000e+00  0.000000e+00  \n",
      "75%    6.880000e+00  9.460000e+00  4.410000e+00  5.770000e+00  1.189600e+00  \n",
      "max    2.835000e+01  4.273000e+01  2.087000e+01  3.243000e+01  5.000000e+00  \n"
     ]
    }
   ],
   "source": [
    "import pandas as pd\n",
    "\n",
    "# Load the CSV dataset\n",
    "df = pd.read_csv(\"train_timeseries.csv\")\n",
    "\n",
    "# Quick look\n",
    "print(df.head())\n",
    "print(df.info())\n",
    "print(df.describe())\n"
   ]
  },
  {
   "cell_type": "code",
   "execution_count": 2,
   "id": "785e81ee",
   "metadata": {},
   "outputs": [
    {
     "name": "stdout",
     "output_type": "stream",
     "text": [
      "fips                  0\n",
      "date                  0\n",
      "PRECTOT               0\n",
      "PS                    0\n",
      "QV2M                  0\n",
      "T2M                   0\n",
      "T2MDEW                0\n",
      "T2MWET                0\n",
      "T2M_MAX               0\n",
      "T2M_MIN               0\n",
      "T2M_RANGE             0\n",
      "TS                    0\n",
      "WS10M                 0\n",
      "WS10M_MAX             0\n",
      "WS10M_MIN             0\n",
      "WS10M_RANGE           0\n",
      "WS50M                 0\n",
      "WS50M_MAX             0\n",
      "WS50M_MIN             0\n",
      "WS50M_RANGE           0\n",
      "score          16543884\n",
      "dtype: int64\n"
     ]
    }
   ],
   "source": [
    "print(df.isnull().sum())\n"
   ]
  },
  {
   "cell_type": "code",
   "execution_count": 3,
   "id": "ec8f5092",
   "metadata": {},
   "outputs": [
    {
     "name": "stderr",
     "output_type": "stream",
     "text": [
      "C:\\Users\\ASUS\\AppData\\Local\\Temp\\ipykernel_21128\\1028311457.py:1: FutureWarning: DataFrame.fillna with 'method' is deprecated and will raise in a future version. Use obj.ffill() or obj.bfill() instead.\n",
      "  df.fillna(method='ffill', inplace=True)  # forward fill\n",
      "C:\\Users\\ASUS\\AppData\\Local\\Temp\\ipykernel_21128\\1028311457.py:2: FutureWarning: DataFrame.fillna with 'method' is deprecated and will raise in a future version. Use obj.ffill() or obj.bfill() instead.\n",
      "  df.fillna(method='bfill', inplace=True)  # backward fill\n"
     ]
    }
   ],
   "source": [
    "df.fillna(method='ffill', inplace=True)  # forward fill\n",
    "df.fillna(method='bfill', inplace=True)  # backward fill\n"
   ]
  },
  {
   "cell_type": "code",
   "execution_count": 4,
   "id": "63385284",
   "metadata": {},
   "outputs": [
    {
     "name": "stderr",
     "output_type": "stream",
     "text": [
      "C:\\Users\\ASUS\\AppData\\Local\\Temp\\ipykernel_21128\\3475226194.py:8: FutureWarning: DataFrame.fillna with 'method' is deprecated and will raise in a future version. Use obj.ffill() or obj.bfill() instead.\n",
      "  df.fillna(method='bfill', inplace=True)\n"
     ]
    }
   ],
   "source": [
    "# Example: 3-day rolling averages\n",
    "df['PRECTOT_3d'] = df['PRECTOT'].rolling(3).mean()\n",
    "df['T2M_MAX_3d'] = df['T2M_MAX'].rolling(3).mean()\n",
    "df['T2M_MIN_3d'] = df['T2M_MIN'].rolling(3).mean()\n",
    "df['WS10M_3d'] = df['WS10M'].rolling(3).mean()\n",
    "\n",
    "# Fill NaNs created by rolling\n",
    "df.fillna(method='bfill', inplace=True)\n"
   ]
  },
  {
   "cell_type": "code",
   "execution_count": 5,
   "id": "a33f4fce",
   "metadata": {},
   "outputs": [],
   "source": [
    "df['PRECTOT_diff'] = df['PRECTOT'] - df['PRECTOT'].shift(1)\n",
    "df['T2M_diff'] = df['T2M'] - df['T2M'].shift(1)\n",
    "df.fillna(0, inplace=True)\n"
   ]
  },
  {
   "cell_type": "code",
   "execution_count": 6,
   "id": "49c53f4d",
   "metadata": {},
   "outputs": [],
   "source": [
    "from sklearn.model_selection import train_test_split\n",
    "\n",
    "features = [col for col in df.columns if col not in ['fips','date','score']]\n",
    "X = df[features]\n",
    "y = df['score']\n",
    "\n",
    "# Train-test split (time-series aware)\n",
    "train_size = int(len(df)*0.8)\n",
    "X_train, X_test = X[:train_size], X[train_size:]\n",
    "y_train, y_test = y[:train_size], y[train_size:]\n"
   ]
  },
  {
   "cell_type": "code",
   "execution_count": 8,
   "id": "4d803c1e",
   "metadata": {},
   "outputs": [
    {
     "name": "stdout",
     "output_type": "stream",
     "text": [
      "RMSE: 1.1832616952439736\n",
      "R2: 0.16934006581753647\n"
     ]
    }
   ],
   "source": [
    "from sklearn.metrics import mean_squared_error, r2_score\n",
    "import numpy as np\n",
    "\n",
    "y_pred = model.predict(X_test)\n",
    "\n",
    "# RMSE manually\n",
    "rmse = np.sqrt(mean_squared_error(y_test, y_pred))\n",
    "print(\"RMSE:\", rmse)\n",
    "\n",
    "# R2\n",
    "print(\"R2:\", r2_score(y_test, y_pred))\n"
   ]
  },
  {
   "cell_type": "code",
   "execution_count": 15,
   "id": "6259bb09",
   "metadata": {},
   "outputs": [
    {
     "name": "stderr",
     "output_type": "stream",
     "text": [
      "[I 2025-08-25 17:18:33,714] A new study created in memory with name: no-name-ed33f9b5-4870-409a-9b5f-c3bc12494923\n",
      "[I 2025-08-25 17:27:19,041] Trial 0 finished with value: 1.0145878562673059 and parameters: {'n_estimators': 429, 'max_depth': 11, 'learning_rate': 0.030143900853127858, 'subsample': 0.9190878894427204, 'colsample_bytree': 0.6853003663519037, 'gamma': 2.7152423362075533, 'reg_alpha': 0.34477974840683434, 'reg_lambda': 0.4194221257868749}. Best is trial 0 with value: 1.0145878562673059.\n",
      "[I 2025-08-25 17:29:52,393] Trial 1 finished with value: 1.0231095923048106 and parameters: {'n_estimators': 192, 'max_depth': 8, 'learning_rate': 0.12214654544836807, 'subsample': 0.8575555870700624, 'colsample_bytree': 0.6188413978301277, 'gamma': 0.6306674239824667, 'reg_alpha': 0.29674377773298755, 'reg_lambda': 0.22571303041408297}. Best is trial 0 with value: 1.0145878562673059.\n",
      "[I 2025-08-25 17:33:12,351] Trial 2 finished with value: 1.0498653716921995 and parameters: {'n_estimators': 446, 'max_depth': 4, 'learning_rate': 0.013715228330157373, 'subsample': 0.7456856262880591, 'colsample_bytree': 0.6452770805754616, 'gamma': 0.8882327414358648, 'reg_alpha': 0.4164922718985741, 'reg_lambda': 0.5222634954805424}. Best is trial 0 with value: 1.0145878562673059.\n",
      "[I 2025-08-25 17:37:00,106] Trial 3 finished with value: 1.0253963227935246 and parameters: {'n_estimators': 437, 'max_depth': 6, 'learning_rate': 0.29664237729962367, 'subsample': 0.7877768351655154, 'colsample_bytree': 0.9148225820532025, 'gamma': 1.7323420595711891, 'reg_alpha': 0.16246306117819476, 'reg_lambda': 0.3642970362829122}. Best is trial 0 with value: 1.0145878562673059.\n",
      "[I 2025-08-25 17:39:54,688] Trial 4 finished with value: 1.0290509237551615 and parameters: {'n_estimators': 219, 'max_depth': 8, 'learning_rate': 0.035827910694157875, 'subsample': 0.7139704226975556, 'colsample_bytree': 0.8070885080324832, 'gamma': 1.4446521989486738, 'reg_alpha': 0.7737703092063798, 'reg_lambda': 0.49006923634065147}. Best is trial 0 with value: 1.0145878562673059.\n",
      "[I 2025-08-25 17:42:55,813] Trial 5 finished with value: 1.0174299754885872 and parameters: {'n_estimators': 133, 'max_depth': 12, 'learning_rate': 0.04799787448378547, 'subsample': 0.9850998526682305, 'colsample_bytree': 0.7615415204637987, 'gamma': 3.021030044446251, 'reg_alpha': 0.2883732994887711, 'reg_lambda': 0.9765740559971808}. Best is trial 0 with value: 1.0145878562673059.\n",
      "[I 2025-08-25 17:46:32,734] Trial 6 finished with value: 1.0325210278729868 and parameters: {'n_estimators': 424, 'max_depth': 5, 'learning_rate': 0.05771064857674203, 'subsample': 0.9553613638031997, 'colsample_bytree': 0.8854277131755095, 'gamma': 1.8054717221214585, 'reg_alpha': 0.34368634186039093, 'reg_lambda': 0.7660443265615792}. Best is trial 0 with value: 1.0145878562673059.\n",
      "[I 2025-08-25 17:48:31,658] Trial 7 finished with value: 1.0420030678351624 and parameters: {'n_estimators': 157, 'max_depth': 7, 'learning_rate': 0.023926541040298652, 'subsample': 0.6119252419748299, 'colsample_bytree': 0.9058500770012328, 'gamma': 2.0104725474055045, 'reg_alpha': 0.9924140300356661, 'reg_lambda': 0.018460611012364958}. Best is trial 0 with value: 1.0145878562673059.\n",
      "[I 2025-08-25 17:52:25,087] Trial 8 finished with value: 1.0182363647143053 and parameters: {'n_estimators': 239, 'max_depth': 10, 'learning_rate': 0.05986764349770991, 'subsample': 0.6707037154608787, 'colsample_bytree': 0.8360347659274244, 'gamma': 4.896510328890729, 'reg_alpha': 0.8781129371559903, 'reg_lambda': 0.0851545886392544}. Best is trial 0 with value: 1.0145878562673059.\n",
      "[I 2025-08-25 17:53:35,016] Trial 9 finished with value: 1.0748761233415591 and parameters: {'n_estimators': 134, 'max_depth': 3, 'learning_rate': 0.01858291703568044, 'subsample': 0.8153765002130331, 'colsample_bytree': 0.9244789483628468, 'gamma': 3.1922898201959633, 'reg_alpha': 0.2750807392384723, 'reg_lambda': 0.4704891222271056}. Best is trial 0 with value: 1.0145878562673059.\n",
      "[I 2025-08-25 17:58:53,939] Trial 10 finished with value: 1.0130643228780924 and parameters: {'n_estimators': 347, 'max_depth': 12, 'learning_rate': 0.11940392742245921, 'subsample': 0.9007862066646857, 'colsample_bytree': 0.7114542371395901, 'gamma': 4.16008488496942, 'reg_alpha': 0.6197401962678317, 'reg_lambda': 0.7142411950083145}. Best is trial 10 with value: 1.0130643228780924.\n",
      "[I 2025-08-25 18:06:17,493] Trial 11 finished with value: 1.0129422660228646 and parameters: {'n_estimators': 335, 'max_depth': 12, 'learning_rate': 0.12034908835511457, 'subsample': 0.8918102467671254, 'colsample_bytree': 0.7081778952790316, 'gamma': 4.18418665952323, 'reg_alpha': 0.619503670376147, 'reg_lambda': 0.7338398447349683}. Best is trial 11 with value: 1.0129422660228646.\n",
      "[I 2025-08-25 18:10:52,541] Trial 12 finished with value: 1.0160400139512005 and parameters: {'n_estimators': 335, 'max_depth': 10, 'learning_rate': 0.12644052373687187, 'subsample': 0.891309630641818, 'colsample_bytree': 0.7243565087100602, 'gamma': 4.311342726569253, 'reg_alpha': 0.5852659900567456, 'reg_lambda': 0.7097480650629434}. Best is trial 11 with value: 1.0129422660228646.\n",
      "[I 2025-08-25 18:15:44,698] Trial 13 finished with value: 1.0143800711308162 and parameters: {'n_estimators': 338, 'max_depth': 12, 'learning_rate': 0.14025855852500746, 'subsample': 0.8509094458732197, 'colsample_bytree': 0.7191864731574815, 'gamma': 3.844160537006374, 'reg_alpha': 0.6245413105365141, 'reg_lambda': 0.6953922480431458}. Best is trial 11 with value: 1.0129422660228646.\n",
      "[I 2025-08-25 18:19:19,570] Trial 14 finished with value: 1.024497875915611 and parameters: {'n_estimators': 285, 'max_depth': 10, 'learning_rate': 0.24143667883222128, 'subsample': 0.9241709564402958, 'colsample_bytree': 0.6733975015535687, 'gamma': 3.8123166969070907, 'reg_alpha': 0.6982421285979972, 'reg_lambda': 0.9154466947804678}. Best is trial 11 with value: 1.0129422660228646.\n",
      "[I 2025-08-25 19:35:16,669] Trial 15 finished with value: 1.0114867134202632 and parameters: {'n_estimators': 373, 'max_depth': 12, 'learning_rate': 0.08149271478740591, 'subsample': 0.9947387447060678, 'colsample_bytree': 0.9754287046543713, 'gamma': 4.9673693977484055, 'reg_alpha': 0.5135635463977105, 'reg_lambda': 0.8430828445040679}. Best is trial 15 with value: 1.0114867134202632.\n",
      "[I 2025-08-25 19:40:42,931] Trial 16 finished with value: 1.018007886625015 and parameters: {'n_estimators': 377, 'max_depth': 9, 'learning_rate': 0.06890832488478019, 'subsample': 0.9976484667806264, 'colsample_bytree': 0.9726167619482172, 'gamma': 4.99881849564776, 'reg_alpha': 0.4839782934034151, 'reg_lambda': 0.8726307658591206}. Best is trial 15 with value: 1.0114867134202632.\n",
      "[I 2025-08-25 19:50:10,724] Trial 17 finished with value: 1.0244496648538777 and parameters: {'n_estimators': 493, 'max_depth': 11, 'learning_rate': 0.21168799646059874, 'subsample': 0.9553479822230917, 'colsample_bytree': 0.980845579376417, 'gamma': 0.00490133741493981, 'reg_alpha': 0.019414727981027224, 'reg_lambda': 0.5845778778775483}. Best is trial 15 with value: 1.0114867134202632.\n",
      "[I 2025-08-25 19:58:56,198] Trial 18 finished with value: 1.01347261105833 and parameters: {'n_estimators': 288, 'max_depth': 11, 'learning_rate': 0.0866823696674678, 'subsample': 0.8459904321871732, 'colsample_bytree': 0.7916549426788625, 'gamma': 4.56874768088386, 'reg_alpha': 0.5047282717438083, 'reg_lambda': 0.8284382909466915}. Best is trial 15 with value: 1.0114867134202632.\n",
      "[I 2025-08-25 20:09:26,101] Trial 19 finished with value: 1.017022854569456 and parameters: {'n_estimators': 381, 'max_depth': 9, 'learning_rate': 0.08719899669092726, 'subsample': 0.9509302084706849, 'colsample_bytree': 0.8664210973034399, 'gamma': 3.594773414221298, 'reg_alpha': 0.8020734070490285, 'reg_lambda': 0.6245141263421744}. Best is trial 15 with value: 1.0114867134202632.\n"
     ]
    },
    {
     "name": "stdout",
     "output_type": "stream",
     "text": [
      "Best RMSE: 1.0114867134202632\n",
      "Best hyperparameters: {'n_estimators': 373, 'max_depth': 12, 'learning_rate': 0.08149271478740591, 'subsample': 0.9947387447060678, 'colsample_bytree': 0.9754287046543713, 'gamma': 4.9673693977484055, 'reg_alpha': 0.5135635463977105, 'reg_lambda': 0.8430828445040679}\n"
     ]
    }
   ],
   "source": [
    "import optuna\n",
    "from sklearn.model_selection import TimeSeriesSplit\n",
    "from sklearn.metrics import mean_squared_error\n",
    "from xgboost import XGBRegressor\n",
    "from math import sqrt\n",
    "import pandas as pd\n",
    "\n",
    "# Example: Replace with your actual training data\n",
    "# X_train, y_train = ...\n",
    "# Make sure X_train is a DataFrame and y_train is a Series\n",
    "\n",
    "def objective(trial):\n",
    "    # Hyperparameter search space\n",
    "    param = {\n",
    "        \"n_estimators\": trial.suggest_int(\"n_estimators\", 100, 500),\n",
    "        \"max_depth\": trial.suggest_int(\"max_depth\", 3, 12),\n",
    "        \"learning_rate\": trial.suggest_float(\"learning_rate\", 0.01, 0.3, log=True),\n",
    "        \"subsample\": trial.suggest_float(\"subsample\", 0.6, 1.0),\n",
    "        \"colsample_bytree\": trial.suggest_float(\"colsample_bytree\", 0.6, 1.0),\n",
    "        \"gamma\": trial.suggest_float(\"gamma\", 0, 5),\n",
    "        \"reg_alpha\": trial.suggest_float(\"reg_alpha\", 0, 1),\n",
    "        \"reg_lambda\": trial.suggest_float(\"reg_lambda\", 0, 1),\n",
    "        \"random_state\": 42,\n",
    "        \"tree_method\": \"hist\",   # Faster training\n",
    "        \"n_jobs\": -1             # Use all CPU cores\n",
    "    }\n",
    "    \n",
    "    tscv = TimeSeriesSplit(n_splits=3)  # reduce folds for speed\n",
    "    rmse_list = []\n",
    "    \n",
    "    for train_idx, val_idx in tscv.split(X_train):\n",
    "        X_tr, X_val = X_train.iloc[train_idx], X_train.iloc[val_idx]\n",
    "        y_tr, y_val = y_train.iloc[train_idx], y_train.iloc[val_idx]\n",
    "        \n",
    "        model = XGBRegressor(**param)\n",
    "        model.fit(X_tr, y_tr)  # ⚡ simpler call, no unsupported args\n",
    "        \n",
    "        y_pred = model.predict(X_val)\n",
    "        rmse = sqrt(mean_squared_error(y_val, y_pred))\n",
    "        rmse_list.append(rmse)\n",
    "    \n",
    "    return sum(rmse_list) / len(rmse_list)\n",
    "\n",
    "# Run Optuna study\n",
    "study = optuna.create_study(direction='minimize')\n",
    "study.optimize(objective, n_trials=20, n_jobs=1)\n",
    "\n",
    "print(\"Best RMSE:\", study.best_value)\n",
    "print(\"Best hyperparameters:\", study.best_params)\n"
   ]
  },
  {
   "cell_type": "code",
   "execution_count": 16,
   "id": "8d2121fc",
   "metadata": {},
   "outputs": [
    {
     "name": "stdout",
     "output_type": "stream",
     "text": [
      "Model saved as drought_model.pkl\n"
     ]
    }
   ],
   "source": [
    "import pickle\n",
    "from xgboost import XGBRegressor\n",
    "\n",
    "# Train with best params\n",
    "best_model = XGBRegressor(**study.best_params)\n",
    "best_model.fit(X_train, y_train)\n",
    "\n",
    "# Save model\n",
    "with open(\"drought_model.pkl\", \"wb\") as f:\n",
    "    pickle.dump(best_model, f)\n",
    "\n",
    "print(\"Model saved as drought_model.pkl\")\n"
   ]
  }
 ],
 "metadata": {
  "kernelspec": {
   "display_name": "base",
   "language": "python",
   "name": "python3"
  },
  "language_info": {
   "codemirror_mode": {
    "name": "ipython",
    "version": 3
   },
   "file_extension": ".py",
   "mimetype": "text/x-python",
   "name": "python",
   "nbconvert_exporter": "python",
   "pygments_lexer": "ipython3",
   "version": "3.13.5"
  }
 },
 "nbformat": 4,
 "nbformat_minor": 5
}
